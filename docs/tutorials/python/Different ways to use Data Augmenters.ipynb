{
 "cells": [
  {
   "cell_type": "markdown",
   "metadata": {},
   "source": [
    "# Different ways to use Data Augmenters"
   ]
  },
  {
   "cell_type": "markdown",
   "metadata": {},
   "source": [
    "## Augmenters"
   ]
  },
  {
   "cell_type": "code",
   "execution_count": 13,
   "metadata": {},
   "outputs": [
    {
     "name": "stdout",
     "output_type": "stream",
     "text": [
      "['detrandomselectaug', ['[\"detrandomcropaug\", {\"min_object_covered\": 0.3, \"aspect_ratio_range\": [0.75, 1.33], \"area_range\": [0.3, 3.0], \"min_eject_coverage\": 0.3, \"max_attempts\": 50}]', '[\"detrandomcropaug\", {\"min_object_covered\": 0.5, \"aspect_ratio_range\": [0.75, 1.33], \"area_range\": [0.3, 3.0], \"min_eject_coverage\": 0.3, \"max_attempts\": 50}]', '[\"detrandomcropaug\", {\"min_object_covered\": 0.9, \"aspect_ratio_range\": [0.75, 1.33], \"area_range\": [0.3, 3.0], \"min_eject_coverage\": 0.3, \"max_attempts\": 50}]']]\n",
      "\n",
      "\n",
      "[\"dethorizontalflipaug\", {\"p\": 0.5}]\n",
      "\n",
      "\n",
      "['detrandomselectaug', ['[\"detrandompadaug\", {\"aspect_ratio_range\": [0.75, 1.33], \"area_range\": [1.0, 3.0], \"max_attempts\": 50, \"pad_val\": [127, 127, 127]}]']]\n",
      "\n",
      "\n",
      "['detborrowaug', '[\"forceresizeaug\", {\"size\": [300, 300], \"interp\": 10}]']\n",
      "\n",
      "\n",
      "['detborrowaug', '[\"castaug\", {\"type\": \"float32\"}]']\n",
      "\n",
      "\n",
      "['detborrowaug', ['colorjitteraug', ['[\"brightnessjitteraug\", {\"brightness\": 0.125}]', '[\"contrastjitteraug\", {\"contrast\": 0.125}]', '[\"saturationjitteraug\", {\"saturation\": 0.125}]']]]\n",
      "\n",
      "\n",
      "['detborrowaug', '[\"lightingaug\", {\"alphastd\": 0.05, \"eigval\": [55.46, 4.794, 1.148], \"eigvec\": [[-0.5675, 0.7192, 0.4009], [-0.5808, -0.0045, -0.814], [-0.5836, -0.6948, 0.4203]]}]']\n",
      "\n",
      "\n",
      "['detborrowaug', '[\"colornormalizeaug\", {\"mean\": [123.68, 116.28, 103.53], \"std\": null}]']\n",
      "\n",
      "\n"
     ]
    }
   ],
   "source": [
    "import mxnet as mx\n",
    "augs = mx.image.CreateDetAugmenter(data_shape=(3, 300, 300), rand_crop=0.5,\n",
    "        rand_pad=0.5, rand_mirror=True, mean=True, brightness=0.125, contrast=0.125,\n",
    "        saturation=0.125, pca_noise=0.05, inter_method=10, min_object_covered=[0.3, 0.5, 0.9],\n",
    "        area_range=(0.3, 3.0))\n",
    "\n",
    "# dump the details\n",
    "for aug in augs:\n",
    "    print(aug.dumps())\n",
    "    print('\\n')"
   ]
  },
  {
   "cell_type": "markdown",
   "metadata": {},
   "source": [
    "## Augmenter list"
   ]
  },
  {
   "cell_type": "markdown",
   "metadata": {},
   "source": [
    "## Augmenter functions"
   ]
  },
  {
   "cell_type": "markdown",
   "metadata": {},
   "source": [
    "## Augmentation with DataIters"
   ]
  },
  {
   "cell_type": "markdown",
   "metadata": {},
   "source": [
    "## Gluon DataIters"
   ]
  }
 ],
 "metadata": {
  "kernelspec": {
   "display_name": "Python 3",
   "language": "python",
   "name": "python3"
  },
  "language_info": {
   "codemirror_mode": {
    "name": "ipython",
    "version": 3
   },
   "file_extension": ".py",
   "mimetype": "text/x-python",
   "name": "python",
   "nbconvert_exporter": "python",
   "pygments_lexer": "ipython3",
   "version": "3.6.4"
  }
 },
 "nbformat": 4,
 "nbformat_minor": 2
}
