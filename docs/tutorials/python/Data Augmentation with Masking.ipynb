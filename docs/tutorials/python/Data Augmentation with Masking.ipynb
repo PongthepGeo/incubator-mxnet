{
 "cells": [
  {
   "cell_type": "markdown",
   "metadata": {},
   "source": [
    "# Data Augmentation with Masking"
   ]
  },
  {
   "cell_type": "markdown",
   "metadata": {},
   "source": [
    "Data Augmentation is a regularisation technique that's used to avoid overfitting when training Computer Vision models. Adjustments are made to the original images in the training dataset before being used in training. Some example adjustments include; translating, croping, scaling, rotating, changing brightness and contrast. We do this to reduce the dependence of the model on spurious characteristics; e.g. training data may only contain faces that fill 1/4 of the image, so the model trainied without data augmentation might unhelpfully learn that faces can only be of this size."
   ]
  },
  {
   "cell_type": "markdown",
   "metadata": {},
   "source": [
    "Certain Computer Vision tasks (like Image Segmentation) require the use of 'masks', and we have to take extra care when using these in conjunction with data augmentation techniques. An image mask is typically a binary or greyscale image, that overlays a base image and can be used to highlight different regions of that base image. In Image Segmentation, the training data contains masks to represent each object class of interest (e.g. floor, table, person, etc)."
   ]
  },
  {
   "cell_type": "markdown",
   "metadata": {},
   "source": [
    "When we adjust the base image as part of data augmentation, we also need to apply exactly the same operation to the associated masks. An example would be after applying a horizontal flip to the base image, we'd need to also flip the mask, to preserve the corresponsence between the base image and mask."
   ]
  },
  {
   "cell_type": "code",
   "execution_count": 1,
   "metadata": {},
   "outputs": [],
   "source": [
    "import mxnet as mx\n",
    "import numpy as np"
   ]
  },
  {
   "cell_type": "markdown",
   "metadata": {},
   "source": [
    "## 1) Generate example image and mask layers"
   ]
  },
  {
   "cell_type": "code",
   "execution_count": 2,
   "metadata": {},
   "outputs": [],
   "source": [
    "img_height = 20\n",
    "img_width = 15"
   ]
  },
  {
   "cell_type": "code",
   "execution_count": 3,
   "metadata": {},
   "outputs": [
    {
     "data": {
      "text/plain": [
       "(20, 15, 5)"
      ]
     },
     "execution_count": 3,
     "metadata": {},
     "output_type": "execute_result"
    }
   ],
   "source": [
    "# Generate 5 random mask layers\n",
    "n_masks = 5\n",
    "masks = mx.nd.array(np.random.randint(low=0, high=2, size=(img_height, img_width, n_masks)))\n",
    "masks.shape"
   ]
  },
  {
   "cell_type": "code",
   "execution_count": 4,
   "metadata": {
    "scrolled": true
   },
   "outputs": [
    {
     "data": {
      "text/plain": [
       "(20, 15, 3)"
      ]
     },
     "execution_count": 4,
     "metadata": {},
     "output_type": "execute_result"
    }
   ],
   "source": [
    "# Generate a random 3 channel image\n",
    "n_channels = 3\n",
    "image = mx.nd.array(np.random.randint(low=0, high=256, size=(img_height, img_width, n_channels)))\n",
    "image.shape"
   ]
  },
  {
   "cell_type": "markdown",
   "metadata": {},
   "source": [
    "## 2) Concatinate image and masks"
   ]
  },
  {
   "cell_type": "code",
   "execution_count": 5,
   "metadata": {},
   "outputs": [
    {
     "data": {
      "text/plain": [
       "(20, 15, 8)"
      ]
     },
     "execution_count": 5,
     "metadata": {},
     "output_type": "execute_result"
    }
   ],
   "source": [
    "# Concatinate on channels dim, to obtain an 8 channel image\n",
    "# (3 channels for the original image, plus 5 layer masks)\n",
    "image_w_masks = mx.nd.concat(image, masks, dim=2)\n",
    "image_w_masks.shape"
   ]
  },
  {
   "cell_type": "markdown",
   "metadata": {},
   "source": [
    "## 3) Perform Positional Augmentations"
   ]
  },
  {
   "cell_type": "code",
   "execution_count": 6,
   "metadata": {},
   "outputs": [],
   "source": [
    "# Random crop\n",
    "crop_height = 5\n",
    "crop_width = 4\n",
    "# Watch out: weight before height in size param!\n",
    "aug_image_w_masks, crop_box = mx.image.random_crop(image_w_masks, size=(crop_width, crop_height))"
   ]
  },
  {
   "cell_type": "code",
   "execution_count": 7,
   "metadata": {},
   "outputs": [],
   "source": [
    "# Deterministic resize\n",
    "resize_size = 10\n",
    "aug_image_w_masks = mx.image.resize_short(aug_image_w_masks, size=resize_size)\n",
    "# Add more translation/scale/rotation augmentations here..."
   ]
  },
  {
   "cell_type": "code",
   "execution_count": 8,
   "metadata": {},
   "outputs": [
    {
     "data": {
      "text/plain": [
       "(12, 10, 8)"
      ]
     },
     "execution_count": 8,
     "metadata": {},
     "output_type": "execute_result"
    }
   ],
   "source": [
    "aug_image_w_masks.shape"
   ]
  },
  {
   "cell_type": "markdown",
   "metadata": {},
   "source": [
    "## 4) Split image and masks "
   ]
  },
  {
   "cell_type": "code",
   "execution_count": 9,
   "metadata": {},
   "outputs": [
    {
     "name": "stdout",
     "output_type": "stream",
     "text": [
      "aug_image shape: (12, 10, 3)\n",
      "aug_masks shape: (12, 10, 5)\n"
     ]
    }
   ],
   "source": [
    "aug_image = aug_image_w_masks[:, :, :n_channels]\n",
    "aug_masks = aug_image_w_masks[:, :, n_channels:]\n",
    "\n",
    "print(\"aug_image shape: \" + str(aug_image.shape))\n",
    "print(\"aug_masks shape: \" + str(aug_masks.shape))"
   ]
  },
  {
   "cell_type": "markdown",
   "metadata": {},
   "source": [
    "## 5) Perform color augmentation (optional)"
   ]
  },
  {
   "cell_type": "code",
   "execution_count": 10,
   "metadata": {},
   "outputs": [
    {
     "name": "stdout",
     "output_type": "stream",
     "text": [
      "aug_image shape: (12, 10, 3)\n"
     ]
    }
   ],
   "source": [
    "# only want to apply this step to the image, and not the mask layers.\n",
    "# creating callable augmenter class, instead of direct function, as implemented directly in `__call__` method of class.\n",
    "aug = mx.image.BrightnessJitterAug(brightness=1)\n",
    "aug_image = aug(aug_image)\n",
    "\n",
    "print(\"aug_image shape: \" + str(aug_image.shape))"
   ]
  },
  {
   "cell_type": "code",
   "execution_count": null,
   "metadata": {},
   "outputs": [],
   "source": []
  }
 ],
 "metadata": {
  "kernelspec": {
   "display_name": "Python 3",
   "language": "python",
   "name": "python3"
  },
  "language_info": {
   "codemirror_mode": {
    "name": "ipython",
    "version": 3
   },
   "file_extension": ".py",
   "mimetype": "text/x-python",
   "name": "python",
   "nbconvert_exporter": "python",
   "pygments_lexer": "ipython3",
   "version": "3.6.4"
  }
 },
 "nbformat": 4,
 "nbformat_minor": 2
}
