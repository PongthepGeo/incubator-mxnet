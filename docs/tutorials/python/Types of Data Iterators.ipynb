{
 "cells": [
  {
   "cell_type": "markdown",
   "metadata": {},
   "source": [
    "# Types of Data Iterators"
   ]
  },
  {
   "cell_type": "code",
   "execution_count": null,
   "metadata": {},
   "outputs": [],
   "source": [
    "Explain purpose of iterators."
   ]
  },
  {
   "cell_type": "code",
   "execution_count": 1,
   "metadata": {},
   "outputs": [],
   "source": [
    "%matplotlib inline\n",
    "import mxnet as mx\n",
    "import numpy as np\n",
    "import matplotlib.pyplot as plt"
   ]
  },
  {
   "cell_type": "markdown",
   "metadata": {},
   "source": [
    "## NDArrayIter "
   ]
  },
  {
   "cell_type": "code",
   "execution_count": 18,
   "metadata": {},
   "outputs": [
    {
     "name": "stdout",
     "output_type": "stream",
     "text": [
      "Batch shape is (30, 3) with padding of 0.\n",
      "Batch shape is (30, 3) with padding of 0.\n",
      "Batch shape is (30, 3) with padding of 0.\n",
      "Batch shape is (30, 3) with padding of 20.\n"
     ]
    }
   ],
   "source": [
    "import numpy as np\n",
    "data = np.random.rand(100,3)\n",
    "label = np.random.randint(0, 10, (100,))\n",
    "data_iter = mx.io.NDArrayIter(data=data, label=label, batch_size=30)\n",
    "for batch in data_iter:\n",
    "    print(\"Batch shape is \" + str(batch.data[0].shape) + \" with padding of \" + str(batch.pad) + \".\")"
   ]
  },
  {
   "cell_type": "markdown",
   "metadata": {},
   "source": [
    "## CSVIter"
   ]
  },
  {
   "cell_type": "code",
   "execution_count": 20,
   "metadata": {},
   "outputs": [
    {
     "name": "stdout",
     "output_type": "stream",
     "text": [
      "Batch shape is (30, 3) with padding of 0.\n",
      "Batch shape is (30, 3) with padding of 0.\n",
      "Batch shape is (30, 3) with padding of 0.\n",
      "Batch shape is (30, 3) with padding of 20.\n"
     ]
    }
   ],
   "source": [
    "# let's save `data` into a csv file first and try reading it back\n",
    "np.savetxt('data.csv', data, delimiter=',')\n",
    "data_iter = mx.io.CSVIter(data_csv='data.csv', data_shape=(3,), batch_size=30)\n",
    "for batch in data_iter:\n",
    "    print(\"Batch shape is \" + str(batch.data[0].shape) + \" with padding of \" + str(batch.pad) + \".\")"
   ]
  },
  {
   "cell_type": "markdown",
   "metadata": {},
   "source": [
    "## mx.image.ImageIter"
   ]
  },
  {
   "cell_type": "markdown",
   "metadata": {},
   "source": [
    "Use `path_imglist` and `path_root` parameters for loading 'raw' images (todo: check if this means JPEG).\n",
    "Can see the expected type of these parameters in docstring of ImageIter."
   ]
  },
  {
   "cell_type": "markdown",
   "metadata": {},
   "source": [
    "```\n",
    "path_imglist : str\n",
    "        Path to image list (.lst).\n",
    "        Created with tools/im2rec.py or with custom script.\n",
    "        Format: Tab separated record of index, one or more labels and relative_path_from_root.\n",
    "\n",
    "path_root : str\n",
    "    Root folder of image files.\n",
    "```"
   ]
  },
  {
   "cell_type": "markdown",
   "metadata": {},
   "source": [
    "We don't yet have an image list (.lst) for `ImageIter`, so we can use the im2rec.py tool to do this. At this stage we'll skip the conversion to `.rec` image format and just create the list by using the `--list` argument."
   ]
  },
  {
   "cell_type": "code",
   "execution_count": 23,
   "metadata": {},
   "outputs": [],
   "source": [
    "import site"
   ]
  },
  {
   "cell_type": "code",
   "execution_count": 28,
   "metadata": {
    "scrolled": true
   },
   "outputs": [],
   "source": [
    "import os\n",
    "mxnet_path = os.path.dirname(mx.__file__)"
   ]
  },
  {
   "cell_type": "code",
   "execution_count": 40,
   "metadata": {},
   "outputs": [
    {
     "name": "stdout",
     "output_type": "stream",
     "text": [
      "/Users/tholane/Documents/mxnet_tryout/.venv/lib/python3.6/distutils/__init__.py:4: DeprecationWarning: the imp module is deprecated in favour of importlib; see the module's documentation for alternative uses\n",
      "  import imp\n",
      "usage: im2rec.py [-h] [--list LIST] [--exts EXTS [EXTS ...]] [--chunks CHUNKS]\n",
      "                 [--train-ratio TRAIN_RATIO] [--test-ratio TEST_RATIO]\n",
      "                 [--recursive RECURSIVE] [--shuffle SHUFFLE]\n",
      "                 [--pass-through PASS_THROUGH] [--resize RESIZE]\n",
      "                 [--center-crop CENTER_CROP] [--quality QUALITY]\n",
      "                 [--num-thread NUM_THREAD] [--color {-1,0,1}]\n",
      "                 [--encoding {.jpg,.png}] [--pack-label PACK_LABEL]\n",
      "                 prefix root\n",
      "im2rec.py: error: the following arguments are required: root\n"
     ]
    }
   ],
   "source": [
    "!python $mxnet_path/tools/im2rec.py --list test_images ./data/images"
   ]
  },
  {
   "cell_type": "markdown",
   "metadata": {},
   "source": [
    "We should now have a correctly formatted image list called file ` test_images.lst` in the current working directory."
   ]
  },
  {
   "cell_type": "code",
   "execution_count": 7,
   "metadata": {},
   "outputs": [
    {
     "name": "stdout",
     "output_type": "stream",
     "text": [
      "0\t0.000000\t0_image.jpg\r\n",
      "2\t0.000000\t2_image.jpg\r\n",
      "3\t0.000000\t3_image.jpg\r\n",
      "1\t0.000000\t1_image.jpg\r\n"
     ]
    }
   ],
   "source": [
    "!cat test_images.lst"
   ]
  },
  {
   "cell_type": "code",
   "execution_count": 8,
   "metadata": {},
   "outputs": [],
   "source": [
    "img_iter = mx.image.ImageIter(batch_size=2,\n",
    "                              data_shape=(3,300,300),\n",
    "                              path_imglist=\"./test_images.lst\",\n",
    "                              path_root=\"./data/images\")\n",
    "# shape too small, will crop\n",
    "# shape too large, will scale up (and fill)\n",
    "\n",
    "batch = img_iter.next()\n",
    "example_image_chw = batch.data[0][1]\n",
    "example_image = chw_to_hwc(example_image_chw)"
   ]
  },
  {
   "cell_type": "code",
   "execution_count": 9,
   "metadata": {},
   "outputs": [],
   "source": [
    "batch = img_iter.next()"
   ]
  },
  {
   "cell_type": "code",
   "execution_count": 10,
   "metadata": {},
   "outputs": [],
   "source": [
    "example_image = batch.data[0][1]"
   ]
  },
  {
   "cell_type": "markdown",
   "metadata": {},
   "source": [
    "## mx.io.ImageDetRecordIter"
   ]
  },
  {
   "cell_type": "code",
   "execution_count": 11,
   "metadata": {},
   "outputs": [],
   "source": []
  }
 ],
 "metadata": {
  "kernelspec": {
   "display_name": "Python 3",
   "language": "python",
   "name": "python3"
  },
  "language_info": {
   "codemirror_mode": {
    "name": "ipython",
    "version": 3
   },
   "file_extension": ".py",
   "mimetype": "text/x-python",
   "name": "python",
   "nbconvert_exporter": "python",
   "pygments_lexer": "ipython3",
   "version": "3.6.4"
  }
 },
 "nbformat": 4,
 "nbformat_minor": 2
}
